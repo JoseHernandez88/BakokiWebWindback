{
  "nbformat": 4,
  "nbformat_minor": 0,
  "metadata": {
    "colab": {
      "provenance": [],
      "authorship_tag": "ABX9TyM4NlWBUHu3EgvCBkWVkOZl",
      "include_colab_link": true
    },
    "kernelspec": {
      "name": "python3",
      "display_name": "Python 3"
    },
    "language_info": {
      "name": "python"
    }
  },
  "cells": [
    {
      "cell_type": "markdown",
      "metadata": {
        "id": "view-in-github",
        "colab_type": "text"
      },
      "source": [
        "<a href=\"https://colab.research.google.com/github/JoseHernandez88/BakokiWebWindback/blob/master/bee_pipeline.ipynb\" target=\"_parent\"><img src=\"https://colab.research.google.com/assets/colab-badge.svg\" alt=\"Open In Colab\"/></a>"
      ]
    },
    {
      "cell_type": "code",
      "execution_count": null,
      "metadata": {
        "id": "geGmpH-MgZIa"
      },
      "outputs": [],
      "source": [
        "import cv2\n",
        "import os\n",
        "import bb_capture\n",
        "from yaml import safe_load\n",
        "\n",
        "def get_frame_zero():\n",
        "    with open('bounding_boxes.ymal','r') as f:\n",
        "        config=safe_load(f)\n",
        "        cap=cv2.VideoCapture(config.get('video path'))\n",
        "        ret,frame=cap.read\n",
        "    return frame\n",
        "\n",
        "def capture_bounding_boxes(frame):\n",
        "    # https://dash.plotly.com/annotations\n"
      ]
    },
    {
      "cell_type": "code",
      "source": [
        "import os\n",
        "import deeplabcut\n",
        "import pathlib\n",
        "\n",
        "config=\"/home/jchan/Desktop/BeeInTube-Jose Hernandeaz Campos-2023-04-17/config.yaml\"\n",
        "\n",
        "path=\"/home/jchan/Desktop/BeeInTube-Jose Hernandeaz Campos-2023-04-17/videos/\"\n",
        "\n",
        "files=[\"1_12_R_230214155032.avi\",\"1_43_R_230214154432.avi\", \"2_11_R_230214180000.avi\", \"3_11_R_230214190000.avi\",\n",
        "      \"3_12_R_230214170000.avi\", \"4_11_R_230214155032.avi\", \"4_11_R_230214200000.avi\", \"5_11_R_230214170000.avi\",\n",
        "      \"5_11_R_230214210000.avi\", \"13_11_R_230215050000.avi\", \"14_11_R_230215060000.avi\", \"15_11_R_230215070000.avi\",\n",
        "      \"16_11_R_230215080000.avi\", \"17_11_R_230215090000.avi\"]\n",
        "\n",
        "videos=[]\n",
        "\n",
        "for f in files:\n",
        "    videos.append(path+f)\n",
        "\n",
        "videotype='.avi'\n",
        "\n",
        "gputouse=0\n",
        "\n",
        "save_as_csv=True\n",
        "\n",
        "auto_track=False\n",
        "\n",
        "deeplabcut.analyze_videos(config=config,videos=videos,videotype=videotype,gputouse=gputouse,save_as_csv=save_as_csv,auto_track=auto_track)"
      ],
      "metadata": {
        "id": "erwNg5N_gh6Y"
      },
      "execution_count": null,
      "outputs": []
    },
    {
      "cell_type": "code",
      "source": [],
      "metadata": {
        "id": "xmu1gwiGguz_"
      },
      "execution_count": null,
      "outputs": []
    }
  ]
}